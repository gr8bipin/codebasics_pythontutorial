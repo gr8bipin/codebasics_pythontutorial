{
 "cells": [
  {
   "cell_type": "code",
   "execution_count": null,
   "metadata": {},
   "outputs": [],
   "source": [
    "# # Inheritance\n",
    "# 1. Inheritance example using vehicle\n",
    "# 2. Implement this example in Python\n",
    "# 3. Benefits of Inheritance\n",
    "# 4. isinstance and issubclass methods "
   ]
  },
  {
   "cell_type": "code",
   "execution_count": 2,
   "metadata": {},
   "outputs": [
    {
     "name": "stdout",
     "output_type": "stream",
     "text": [
      "------------------------------------------------\n",
      "I'm car\n",
      "general use: transportation\n",
      "specific use: commute to work, vacation with family\n",
      "------------------------------------------------\n",
      "I'm Motorcycle\n",
      "general use: transportation\n",
      "specific use: road trip, racing\n"
     ]
    }
   ],
   "source": [
    "class Vehicle:\n",
    "    def general_usage(self):\n",
    "        print(\"general use: transportation\")\n",
    "\n",
    "class Car(Vehicle):\n",
    "    def __init__(self):\n",
    "        print(\"I'm car\")\n",
    "        self.wheels = 4\n",
    "        self.has_roof = True\n",
    "\n",
    "    def specific_usage(self):\n",
    "        print(\"specific use: commute to work, vacation with family\")\n",
    "\n",
    "class Motorcycle(Vehicle):\n",
    "    def __init__(self):\n",
    "        print(\"I'm Motorcycle\")\n",
    "        self.wheels = 4\n",
    "        self.has_roof = True\n",
    "\n",
    "    def specific_usage(self):\n",
    "        print(\"specific use: road trip, racing\")\n",
    "\n",
    "print(\"------------------------------------------------\")\n",
    "\n",
    "c = Car()\n",
    "c.general_usage()\n",
    "c.specific_usage()\n",
    "\n",
    "print(\"------------------------------------------------\")\n",
    "\n",
    "m = Motorcycle()\n",
    "m.general_usage()\n",
    "m.specific_usage()"
   ]
  },
  {
   "cell_type": "code",
   "execution_count": 3,
   "metadata": {},
   "outputs": [],
   "source": [
    "# Benefits of Inheritance\n",
    "# 1. Code Reuse\n",
    "# 2. Extensibility\n",
    "# 3. Readability"
   ]
  },
  {
   "cell_type": "code",
   "execution_count": 9,
   "metadata": {},
   "outputs": [
    {
     "name": "stdout",
     "output_type": "stream",
     "text": [
      "True\n",
      "True\n",
      "False\n",
      "True\n",
      "True\n"
     ]
    }
   ],
   "source": [
    "# isinstance and issubclass methods\n",
    "\n",
    "print(isinstance(c, Car))\n",
    "print(isinstance(m, Motorcycle))\n",
    "print(issubclass(Car, Motorcycle))\n",
    "print(issubclass(Car, Vehicle))\n",
    "print(issubclass(Motorcycle, Vehicle))"
   ]
  },
  {
   "cell_type": "code",
   "execution_count": null,
   "metadata": {},
   "outputs": [],
   "source": []
  }
 ],
 "metadata": {
  "kernelspec": {
   "display_name": "Python 3",
   "language": "python",
   "name": "python3"
  },
  "language_info": {
   "codemirror_mode": {
    "name": "ipython",
    "version": 3
   },
   "file_extension": ".py",
   "mimetype": "text/x-python",
   "name": "python",
   "nbconvert_exporter": "python",
   "pygments_lexer": "ipython3",
   "version": "3.11.9"
  }
 },
 "nbformat": 4,
 "nbformat_minor": 2
}
