{
 "cells": [
  {
   "cell_type": "code",
   "execution_count": null,
   "metadata": {},
   "outputs": [],
   "source": [
    "# Multiple Inheritance [Python3 Programming Tutorials]"
   ]
  },
  {
   "cell_type": "code",
   "execution_count": 2,
   "metadata": {},
   "outputs": [
    {
     "name": "stdout",
     "output_type": "stream",
     "text": [
      "I enjoy gardening\n",
      "I love cooking\n",
      "I enjoy sports\n"
     ]
    }
   ],
   "source": [
    "class Father():\n",
    "    def gardening(self):\n",
    "        print(\"I enjoy gardening\")\n",
    "\n",
    "class Mother():\n",
    "    def cooking(self):\n",
    "        print(\"I love cooking\")\n",
    "\n",
    "class Child(Father, Mother):\n",
    "    def sports(self):\n",
    "        print(\"I enjoy sports\")\n",
    "\n",
    "c = Child()\n",
    "c.gardening()\n",
    "c.cooking()\n",
    "c.sports()"
   ]
  },
  {
   "cell_type": "code",
   "execution_count": 3,
   "metadata": {},
   "outputs": [
    {
     "name": "stdout",
     "output_type": "stream",
     "text": [
      "gardening, programming\n",
      "cooking, art\n",
      "sports\n"
     ]
    }
   ],
   "source": [
    "class Father():\n",
    "    def skills(self):\n",
    "        print(\"gardening, programming\")\n",
    "\n",
    "class Mother():\n",
    "    def skills(self):\n",
    "        print(\"cooking, art\")\n",
    "\n",
    "class Child(Father, Mother):\n",
    "    def skills(self):\n",
    "        Father.skills(self)\n",
    "        Mother.skills(self)\n",
    "        print(\"sports\")\n",
    "\n",
    "c = Child()\n",
    "c.skills()"
   ]
  }
 ],
 "metadata": {
  "kernelspec": {
   "display_name": "Python 3",
   "language": "python",
   "name": "python3"
  },
  "language_info": {
   "codemirror_mode": {
    "name": "ipython",
    "version": 3
   },
   "file_extension": ".py",
   "mimetype": "text/x-python",
   "name": "python",
   "nbconvert_exporter": "python",
   "pygments_lexer": "ipython3",
   "version": "3.11.9"
  }
 },
 "nbformat": 4,
 "nbformat_minor": 2
}
